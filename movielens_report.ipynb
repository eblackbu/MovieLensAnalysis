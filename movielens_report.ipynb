{
 "cells": [
  {
   "cell_type": "markdown",
   "metadata": {},
   "source": [
    "## To import of packages"
   ]
  },
  {
   "cell_type": "code",
   "execution_count": 10,
   "metadata": {},
   "outputs": [],
   "source": [
    "from movielens_analysis import Ratings, Tags, Movies, Links"
   ]
  },
  {
   "cell_type": "markdown",
   "metadata": {},
   "source": [
    "## To create classes"
   ]
  },
  {
   "cell_type": "code",
   "execution_count": 11,
   "metadata": {},
   "outputs": [],
   "source": [
    "ratings = Ratings('ratings.csv')\n",
    "rmovies = ratings.Movies()"
   ]
  },
  {
   "cell_type": "code",
   "execution_count": 12,
   "metadata": {},
   "outputs": [],
   "source": [
    "tags = Tags('tags.csv')"
   ]
  },
  {
   "cell_type": "code",
   "execution_count": 13,
   "metadata": {},
   "outputs": [],
   "source": [
    "movies = Movies('movies.csv')"
   ]
  },
  {
   "cell_type": "code",
   "execution_count": 17,
   "metadata": {},
   "outputs": [],
   "source": [
    "links = Links('links.csv')"
   ]
  },
  {
   "cell_type": "markdown",
   "metadata": {},
   "source": [
    "## To inpurt parameters"
   ]
  },
  {
   "cell_type": "code",
   "execution_count": 15,
   "metadata": {},
   "outputs": [
    {
     "name": "stdout",
     "output_type": "stream",
     "text": [
      "Input TOP-count of movies: 10\n",
      "Input TOP-count of tags: 10\n",
      "Input TOP-count of longest tags: 10\n",
      "Input TOP-count of the most popular tags: 10\n",
      "Input word which is included by tags: Leo\n"
     ]
    }
   ],
   "source": [
    "n_top_movies = input('Input TOP-count of movies: ')\n",
    "n_top_tags = input('Input TOP-count of tags: ')\n",
    "n_top_longest_tags = input('Input TOP-count of longest tags: ')\n",
    "n_top_popular_tags = input('Input TOP-count of the most popular tags: ')\n",
    "word_tags = input('Input word which is included by tags: ')"
   ]
  },
  {
   "cell_type": "markdown",
   "metadata": {},
   "source": [
    "## RATINGS.MOVIES instance: to run methods and get values"
   ]
  },
  {
   "cell_type": "code",
   "execution_count": 16,
   "metadata": {},
   "outputs": [],
   "source": [
    "dist_by_year = rmovies.dist_by_year()\n",
    "dist_by_rating = rmovies.dist_by_rating()\n",
    "top_by_num_of_ratings = rmovies.top_by_num_of_ratings(n_top_movies)\n",
    "top_by_ratings = rmovies.top_by_ratings(n_top_movies)\n",
    "top_controversial = rmovies.top_controversial(n_top_movies)"
   ]
  },
  {
   "cell_type": "markdown",
   "metadata": {},
   "source": [
    "## TAGS instance: to run methods and get values"
   ]
  },
  {
   "cell_type": "code",
   "execution_count": 18,
   "metadata": {},
   "outputs": [],
   "source": [
    "most_words = tags.most_words(n_top_tags)\n",
    "longest = tags.longest(n_top_longest_tags)\n",
    "most_words_and_longest = tags.most_words_and_longest(n_top_tags)\n",
    "most_popular = tags.most_popular(n_top_popular_tags)\n",
    "tags_with = tags.tags_with(word_tags)"
   ]
  },
  {
   "cell_type": "markdown",
   "metadata": {},
   "source": [
    "## MOVIES instance: to run methods and get values"
   ]
  },
  {
   "cell_type": "code",
   "execution_count": 19,
   "metadata": {},
   "outputs": [],
   "source": [
    "dist_by_release = movies.dist_by_release()\n",
    "dist_by_genres = movies.dist_by_genres()\n",
    "most_genres = movies.most_genres(n_top_movies)"
   ]
  },
  {
   "cell_type": "markdown",
   "metadata": {},
   "source": [
    "## LINKS instance: to run methods and get values"
   ]
  },
  {
   "cell_type": "code",
   "execution_count": null,
   "metadata": {},
   "outputs": [],
   "source": [
    "get_imdb = links.get_imdb([])\n",
    "top_directors = links.top_directors(n_top_movies)\n",
    "most_expensive = links.most_expensive(n_top_movies)\n",
    "most_profitable = links.most_profitable(n_top_movies)\n",
    "longest = links.longest(n_top_movies)\n",
    "top_cost_per_minute = links.top_cost_per_minute(n_top_movies)"
   ]
  },
  {
   "cell_type": "markdown",
   "metadata": {},
   "source": [
    "# REPORT"
   ]
  },
  {
   "cell_type": "code",
   "execution_count": null,
   "metadata": {},
   "outputs": [],
   "source": []
  },
  {
   "cell_type": "code",
   "execution_count": null,
   "metadata": {},
   "outputs": [],
   "source": []
  }
 ],
 "metadata": {
  "kernelspec": {
   "display_name": "Python 3",
   "language": "python",
   "name": "python3"
  },
  "language_info": {
   "codemirror_mode": {
    "name": "ipython",
    "version": 3
   },
   "file_extension": ".py",
   "mimetype": "text/x-python",
   "name": "python",
   "nbconvert_exporter": "python",
   "pygments_lexer": "ipython3",
   "version": "3.7.3"
  }
 },
 "nbformat": 4,
 "nbformat_minor": 2
}
